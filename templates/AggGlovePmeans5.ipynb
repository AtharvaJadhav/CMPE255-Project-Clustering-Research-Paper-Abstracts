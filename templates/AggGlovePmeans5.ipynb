{
 "cells": [
  {
   "cell_type": "markdown",
   "metadata": {
    "colab_type": "text",
    "id": "n6yRKl7Nx8NV"
   },
   "source": [
    "# ***Set parameters***"
   ]
  },
  {
   "cell_type": "code",
   "execution_count": 1,
   "metadata": {
    "colab": {},
    "colab_type": "code",
    "id": "RLla__P2wqVL"
   },
   "outputs": [],
   "source": [
    "__algo__ = \"Agg\"               #Name of the Clustering algorithm\n",
    "__emb__ = \"glove\"                 #Name of the Word Embeddings used (glove, w2v, ftt), MUST set directory below\n",
    "__sentemb__ = \"pmeans5\"           #Name of Sentence Embedding algorithm used\n",
    "recnum = 3000                     #Number of records to be read from files\n",
    "k = 50                            #Number of Clusters\n",
    "usesqrt = False                   #Set value of k to sqrt of recnum, overrides k\n",
    "randomsample = False              #Random Sampling to be True/False for records which are read\n",
    "embedDir = \"../MegaSentEmbs/\"     #Directory where embeddings are saved for that selected embedding\n",
    "modelDir = \"../models/\"           #Directory where models are saved\n",
    "megadfDir = \"../MegaDfs/\"         #Directory Where Megadf is to be saved\n",
    "plotDir = \"../plots/\"             #Directory where plots are saved\n",
    "metadataDir = \"../modelMetaData/\" #Directory where performance and distribution params are to be stored\n",
    "dumpDir = \"../dump/\"              #Directory where test outcomes are saved"
   ]
  },
  {
   "cell_type": "markdown",
   "metadata": {
    "colab_type": "text",
    "id": "LGy8jsWQx0nS"
   },
   "source": [
    "# Actual Code"
   ]
  },
  {
   "cell_type": "markdown",
   "metadata": {
    "colab_type": "text",
    "id": "II0jpbbTzD8M"
   },
   "source": [
    "### imports and time"
   ]
  },
  {
   "cell_type": "code",
   "execution_count": 2,
   "metadata": {
    "colab": {},
    "colab_type": "code",
    "id": "wkS4KGOphHK4"
   },
   "outputs": [],
   "source": [
    "import numpy as np\n",
    "import matplotlib.pyplot as plt\n",
    "import pandas as pd\n",
    "from sklearn import cluster, datasets\n",
    "from sklearn.metrics import silhouette_score, davies_bouldin_score\n",
    "import seaborn as sns\n",
    "import os, subprocess, sys\n",
    "import datetime, time\n",
    "import pickle"
   ]
  },
  {
   "cell_type": "markdown",
   "metadata": {
    "colab_type": "text",
    "id": "X2T_-VrUzBVt"
   },
   "source": [
    "### File Settings"
   ]
  },
  {
   "cell_type": "code",
   "execution_count": 3,
   "metadata": {
    "colab": {
     "base_uri": "https://localhost:8080/"
    },
    "colab_type": "code",
    "id": "fAi1m08zhHLn",
    "outputId": "1e03b451-0705-4b84-9e6e-449141acfb97"
   },
   "outputs": [
    {
     "name": "stdout",
     "output_type": "stream",
     "text": [
      "Length of Smalllist:  116\n"
     ]
    }
   ],
   "source": [
    "oldlist = os.listdir(embedDir)\n",
    "filelist = sorted([embedDir+f for f in oldlist if f[-3:]==\"pkl\"])\n",
    "filenum = len(filelist)\n",
    "smalllist = filelist[:filenum]\n",
    "print(\"Length of Smalllist: \", len(smalllist))"
   ]
  },
  {
   "cell_type": "markdown",
   "metadata": {
    "colab_type": "text",
    "id": "Verw6R-QVK24"
   },
   "source": [
    "### Number of Records\n",
    "It is Recommended to Set this at the top parameters"
   ]
  },
  {
   "cell_type": "code",
   "execution_count": 4,
   "metadata": {
    "colab": {},
    "colab_type": "code",
    "id": "1KLrsnyYVN0R"
   },
   "outputs": [],
   "source": [
    "recnum = recnum"
   ]
  },
  {
   "cell_type": "markdown",
   "metadata": {
    "colab_type": "text",
    "id": "fN1QgBS0hHL1"
   },
   "source": [
    "### Read all the pandas dataframes"
   ]
  },
  {
   "cell_type": "code",
   "execution_count": 5,
   "metadata": {
    "colab": {
     "base_uri": "https://localhost:8080/"
    },
    "colab_type": "code",
    "id": "opx4vfnfhHL4",
    "outputId": "4de12cfa-fe83-4811-c5aa-b25e965ed72f"
   },
   "outputs": [
    {
     "name": "stdout",
     "output_type": "stream",
     "text": [
      "randomsample:  False\n",
      "megadf.shape:  (3000, 4)\n",
      "CPU times: user 104 ms, sys: 35.4 ms, total: 139 ms\n",
      "Wall time: 144 ms\n"
     ]
    }
   ],
   "source": [
    "%%time\n",
    "megadf = pd.DataFrame()\n",
    "\n",
    "if randomsample == True:\n",
    "    print(\"randomsample: \", randomsample)\n",
    "    for f in smalllist:\n",
    "        tempdf = pd.read_pickle(f)\n",
    "        megadf = megadf.append(tempdf, ignore_index = True)\n",
    "    megadf = megadf.sample(recnum, random_state=42)\n",
    "else:\n",
    "    print(\"randomsample: \", randomsample)\n",
    "    for f in smalllist:\n",
    "        tempdf = pd.read_pickle(f)\n",
    "        megadf = megadf.append(tempdf, ignore_index = True)\n",
    "        if megadf.shape[0] >= recnum:\n",
    "            megadf = megadf[:recnum]\n",
    "            break\n",
    "\n",
    "print(\"megadf.shape: \", megadf.shape)"
   ]
  },
  {
   "cell_type": "code",
   "execution_count": 6,
   "metadata": {
    "colab": {
     "base_uri": "https://localhost:8080/"
    },
    "colab_type": "code",
    "id": "AH7_54wfhHMH",
    "outputId": "e234ab86-7a01-47b6-cb23-c073e10fbf3b"
   },
   "outputs": [
    {
     "name": "stdout",
     "output_type": "stream",
     "text": [
      "(3000, 250)\n"
     ]
    }
   ],
   "source": [
    "predata = megadf[\"embedding\"]\n",
    "data = np.matrix(predata.to_list())\n",
    "print(data.shape)"
   ]
  },
  {
   "cell_type": "markdown",
   "metadata": {
    "colab_type": "text",
    "id": "AHw4QXjahHMV"
   },
   "source": [
    "### Number of Clusters\n",
    "It is Recommended to Set this at the top parameters"
   ]
  },
  {
   "cell_type": "code",
   "execution_count": 7,
   "metadata": {
    "colab": {
     "base_uri": "https://localhost:8080/"
    },
    "colab_type": "code",
    "id": "NDTDoVfhhHMa",
    "outputId": "6834227e-c968-4fe6-a288-3e502641167a"
   },
   "outputs": [
    {
     "name": "stdout",
     "output_type": "stream",
     "text": [
      "usesqrt:  False\n",
      "k:  50\n"
     ]
    }
   ],
   "source": [
    "if usesqrt == True:\n",
    "    print(\"usesqrt: \", usesqrt)\n",
    "    sqrt_k = int(np.sqrt(data.shape[0]))\n",
    "    k = int(sqrt_k)\n",
    "else:\n",
    "    print(\"usesqrt: \", usesqrt)\n",
    "    k = k\n",
    "print(\"k: \", k)"
   ]
  },
  {
   "cell_type": "markdown",
   "metadata": {
    "colab_type": "text",
    "id": "KGn8OXrj2CJQ"
   },
   "source": [
    "## Clustering\n",
    "Please modify the functions here to change algorithm"
   ]
  },
  {
   "cell_type": "code",
   "execution_count": 8,
   "metadata": {
    "colab": {
     "base_uri": "https://localhost:8080/",
     "height": 104
    },
    "colab_type": "code",
    "id": "bQYesl8uhHMk",
    "outputId": "6b0bad20-a06c-40f3-a8c5-322bed5d81ce"
   },
   "outputs": [
    {
     "name": "stdout",
     "output_type": "stream",
     "text": [
      "Starting Clustering Process\n",
      "done! 1.16\n",
      "k_means.fit(data) Done!\n",
      "CPU times: user 1.13 s, sys: 32.5 ms, total: 1.16 s\n",
      "Wall time: 1.16 s\n"
     ]
    }
   ],
   "source": [
    "%%time\n",
    "print(\"Starting Clustering Process\")\n",
    "start_time = time.time()\n",
    "model = cluster.AgglomerativeClustering(n_clusters=k, affinity='euclidean', linkage='ward')\n",
    "model.fit(data)\n",
    "end_time = time.time()\n",
    "timetrain = round(end_time-start_time, 2)\n",
    "print(\"done! {}\".format(timetrain))\n",
    "print(\"k_means.fit(data) Done!\")"
   ]
  },
  {
   "cell_type": "markdown",
   "metadata": {
    "colab_type": "text",
    "id": "CArLi48A6ABy"
   },
   "source": [
    "### Saving the output data into vars"
   ]
  },
  {
   "cell_type": "code",
   "execution_count": 9,
   "metadata": {
    "colab": {},
    "colab_type": "code",
    "id": "QIfHjjLShHM8"
   },
   "outputs": [],
   "source": [
    "# centroids = model.cluster_centers_\n",
    "labels = model.labels_\n",
    "megadf[\"clusterlabel\"]=labels\n",
    "# centroidDF = pd.DataFrame(centroids)\n"
   ]
  },
  {
   "cell_type": "markdown",
   "metadata": {
    "colab_type": "text",
    "id": "katJKlYX3DVA"
   },
   "source": [
    "## Plotting"
   ]
  },
  {
   "cell_type": "code",
   "execution_count": 10,
   "metadata": {
    "colab": {
     "base_uri": "https://localhost:8080/"
    },
    "colab_type": "code",
    "id": "5RdhXBYhhHNG",
    "outputId": "ff87a9c6-03d2-4527-d0b0-710176d17b6a",
    "scrolled": true
   },
   "outputs": [
    {
     "data": {
      "text/plain": [
       "Text(0.5, 1.0, 'Agg with k=50 records=3000 features=250 using glove')"
      ]
     },
     "execution_count": 10,
     "metadata": {},
     "output_type": "execute_result"
    },
    {
     "data": {
      "image/png": "[encoded data removed]",
      "text/plain": [
       "<Figure size 1152x1152 with 1 Axes>"
      ]
     },
     "metadata": {
      "needs_background": "light"
     },
     "output_type": "display_data"
    }
   ],
   "source": [
    "plt.figure(figsize=(16,16))\n",
    "titlestring = \"{} with k={} records={} features={} using {}\".format(__algo__, k, data.shape[0], data.shape[1], __emb__)\n",
    "snsplot = sns.countplot(\"clusterlabel\", data=megadf)\n",
    "snsplot.xaxis.label.set_size(20)\n",
    "snsplot.yaxis.label.set_size(20)\n",
    "plt.title(\n",
    "        titlestring,\n",
    "        fontdict = {'fontsize' : 30}\n",
    "    )"
   ]
  },
  {
   "cell_type": "markdown",
   "metadata": {},
   "source": [
    "### *Name given to saved files*"
   ]
  },
  {
   "cell_type": "code",
   "execution_count": 11,
   "metadata": {
    "scrolled": true
   },
   "outputs": [
    {
     "data": {
      "text/plain": [
       "'Agg_glove_pmeans5_K50_R3000_F250'"
      ]
     },
     "execution_count": 11,
     "metadata": {},
     "output_type": "execute_result"
    }
   ],
   "source": [
    "features = data.shape[1]\n",
    "records = data.shape[0]\n",
    "name = \"{}_{}_{}_K{}_R{}_F{}\".format(__algo__, __emb__, __sentemb__, k, records, features)\n",
    "name"
   ]
  },
  {
   "cell_type": "markdown",
   "metadata": {
    "colab_type": "text",
    "id": "Auz4Iqgh4Run"
   },
   "source": [
    "### Saving Data"
   ]
  },
  {
   "cell_type": "markdown",
   "metadata": {},
   "source": [
    "Save model"
   ]
  },
  {
   "cell_type": "code",
   "execution_count": 12,
   "metadata": {},
   "outputs": [],
   "source": [
    "modelname = \"{}_model.pkl\".format(name)\n",
    "pickle.dump(model, open(modelDir + modelname, 'wb'))"
   ]
  },
  {
   "cell_type": "markdown",
   "metadata": {},
   "source": [
    "Save Plot"
   ]
  },
  {
   "cell_type": "code",
   "execution_count": 13,
   "metadata": {
    "colab": {},
    "colab_type": "code",
    "id": "l0RRWXwvQ9jz"
   },
   "outputs": [],
   "source": [
    "snspltname = \"{}_plt.png\".format(name)\n",
    "snsplot.figure.savefig(plotDir + snspltname)"
   ]
  },
  {
   "cell_type": "markdown",
   "metadata": {},
   "source": [
    "Save Megadf"
   ]
  },
  {
   "cell_type": "code",
   "execution_count": 14,
   "metadata": {
    "colab": {},
    "colab_type": "code",
    "id": "ZLHiM-gclArn"
   },
   "outputs": [],
   "source": [
    "clusterdfname = \"{}_clustered_megadf.pkl\".format(name)\n",
    "megadf.to_pickle(megadfDir + clusterdfname)"
   ]
  },
  {
   "cell_type": "markdown",
   "metadata": {},
   "source": [
    "Save Centroids"
   ]
  },
  {
   "cell_type": "code",
   "execution_count": 15,
   "metadata": {
    "colab": {},
    "colab_type": "code",
    "id": "N8MsneQ_vx4H"
   },
   "outputs": [],
   "source": [
    "# centroidDF = pd.DataFrame(centroids)\n",
    "# centroidDFname = \"{}_centroids.pkl\".format(name)\n",
    "# centroidDF.to_pickle(megadfDir + centroidDFname)\n",
    "# print(centroidDF.shape)"
   ]
  },
  {
   "cell_type": "markdown",
   "metadata": {
    "colab_type": "text",
    "id": "P0kYelyC5NqY"
   },
   "source": [
    "#### Open dataframe to test"
   ]
  },
  {
   "cell_type": "code",
   "execution_count": 16,
   "metadata": {
    "colab": {
     "base_uri": "https://localhost:8080/"
    },
    "colab_type": "code",
    "id": "VvsuuCMaQEj4",
    "outputId": "5b11f4b6-275c-441c-ebab-130b39dccf5a",
    "scrolled": false
   },
   "outputs": [
    {
     "data": {
      "text/html": [
       "<div>\n",
       "<style scoped>\n",
       "    .dataframe tbody tr th:only-of-type {\n",
       "        vertical-align: middle;\n",
       "    }\n",
       "\n",
       "    .dataframe tbody tr th {\n",
       "        vertical-align: top;\n",
       "    }\n",
       "\n",
       "    .dataframe thead th {\n",
       "        text-align: right;\n",
       "    }\n",
       "</style>\n",
       "<table border=\"1\" class=\"dataframe\">\n",
       "  <thead>\n",
       "    <tr style=\"text-align: right;\">\n",
       "      <th></th>\n",
       "      <th>id</th>\n",
       "      <th>title</th>\n",
       "      <th>abstract</th>\n",
       "      <th>clusterlabel</th>\n",
       "    </tr>\n",
       "  </thead>\n",
       "  <tbody>\n",
       "    <tr>\n",
       "      <td>2995</td>\n",
       "      <td>1588822</td>\n",
       "      <td>Defining the clinical role of the mammalian ta...</td>\n",
       "      <td>[lung, cancer, biggest, cancer, killer, patien...</td>\n",
       "      <td>31</td>\n",
       "    </tr>\n",
       "    <tr>\n",
       "      <td>2996</td>\n",
       "      <td>1588823</td>\n",
       "      <td>Bio-functionalised nanoparticles for enzyme se...</td>\n",
       "      <td>[inorganic, nanoparticles, accompanying, diver...</td>\n",
       "      <td>31</td>\n",
       "    </tr>\n",
       "    <tr>\n",
       "      <td>2997</td>\n",
       "      <td>1588824</td>\n",
       "      <td>Lithological mapping on the Antarctic Peninsul...</td>\n",
       "      <td>[antarctic, peninsula, larger, uk, limited, ge...</td>\n",
       "      <td>4</td>\n",
       "    </tr>\n",
       "    <tr>\n",
       "      <td>2998</td>\n",
       "      <td>1588825</td>\n",
       "      <td>WWOX, tumour suppressor and modifier gene, as ...</td>\n",
       "      <td>[wwox, tumour, suppressor, gene, demonstrated,...</td>\n",
       "      <td>31</td>\n",
       "    </tr>\n",
       "    <tr>\n",
       "      <td>2999</td>\n",
       "      <td>1588826</td>\n",
       "      <td>Improving efficiency in drive lines : an exper...</td>\n",
       "      <td>[research, concern, improvement, power, effici...</td>\n",
       "      <td>30</td>\n",
       "    </tr>\n",
       "  </tbody>\n",
       "</table>\n",
       "</div>"
      ],
      "text/plain": [
       "           id                                              title  \\\n",
       "2995  1588822  Defining the clinical role of the mammalian ta...   \n",
       "2996  1588823  Bio-functionalised nanoparticles for enzyme se...   \n",
       "2997  1588824  Lithological mapping on the Antarctic Peninsul...   \n",
       "2998  1588825  WWOX, tumour suppressor and modifier gene, as ...   \n",
       "2999  1588826  Improving efficiency in drive lines : an exper...   \n",
       "\n",
       "                                               abstract  clusterlabel  \n",
       "2995  [lung, cancer, biggest, cancer, killer, patien...            31  \n",
       "2996  [inorganic, nanoparticles, accompanying, diver...            31  \n",
       "2997  [antarctic, peninsula, larger, uk, limited, ge...             4  \n",
       "2998  [wwox, tumour, suppressor, gene, demonstrated,...            31  \n",
       "2999  [research, concern, improvement, power, effici...            30  "
      ]
     },
     "execution_count": 16,
     "metadata": {},
     "output_type": "execute_result"
    }
   ],
   "source": [
    "sub = megadf.loc[:, [\"id\", \"title\", \"abstract\", \"clusterlabel\"]]\n",
    "sub.tail()"
   ]
  },
  {
   "cell_type": "code",
   "execution_count": 17,
   "metadata": {},
   "outputs": [
    {
     "data": {
      "text/plain": [
       "Index(['id', 'title', 'abstract', 'embedding', 'clusterlabel'], dtype='object')"
      ]
     },
     "execution_count": 17,
     "metadata": {},
     "output_type": "execute_result"
    }
   ],
   "source": [
    "megadf.columns"
   ]
  },
  {
   "cell_type": "markdown",
   "metadata": {},
   "source": [
    "# Performance Testing and Distribution\n"
   ]
  },
  {
   "cell_type": "code",
   "execution_count": 18,
   "metadata": {},
   "outputs": [],
   "source": [
    "metadata = pd.DataFrame(columns=[\"Name\", \"Algo\", \"WordEmb\", \"SentEmb\", \"K\", \"R\", \"F\", \"SS\", \"CSavg\", \"CSmin\", \"CSmax\", \"T2Pavg\", \"T2LM\", \"T2LMP\", \"MEM\"])"
   ]
  },
  {
   "cell_type": "code",
   "execution_count": 19,
   "metadata": {},
   "outputs": [
    {
     "data": {
      "text/plain": [
       "{'Name': None,\n",
       " 'Algo': None,\n",
       " 'WordEmb': None,\n",
       " 'SentEmb': None,\n",
       " 'K': None,\n",
       " 'R': None,\n",
       " 'F': None,\n",
       " 'T2T': None,\n",
       " 'SS': None,\n",
       " 'DBS': None,\n",
       " 'CSavg': None,\n",
       " 'CSmin': None,\n",
       " 'CSmax': None,\n",
       " 'T2Pavg': None,\n",
       " 'T2LM': None,\n",
       " 'T2LMP': None,\n",
       " 'MEM': None}"
      ]
     },
     "execution_count": 19,
     "metadata": {},
     "output_type": "execute_result"
    }
   ],
   "source": [
    "metadict = {\n",
    "    \"Name\":None,                     #Name of the save file prefix\n",
    "    \"Algo\":None,                     #Name of the Clustering algorithm\n",
    "    \"WordEmb\":None,                  #Name of the Word Embeddings used (glove, w2v, ftt)\n",
    "    \"SentEmb\":None,                  #Name of Sentence Embedding algorithm used \n",
    "    \"K\":None, \"R\":None, \"F\":None,    #Number of clusters, records and fetures\n",
    "    \"T2T\":None,                      #Time required to train model\n",
    "    \"SS\":None,                       #Silhoutte Score\n",
    "    \"DBS\":None,                      #Davis Bouldin Score\n",
    "    \"CSavg\":None,                    #Average Cluster Size\n",
    "    \"CSmin\":None,                    #Minimum Cluster Size\n",
    "    \"CSmax\":None,                    #Maximum Cluster Size\n",
    "    \"T2Pavg\":None,                   #Average Time To Predict cluster of one record\n",
    "    \"T2LM\":None,                     #Average Time to Load Model\n",
    "    \"T2LMP\":None,                    #Amortized time to Predict after loading the model\n",
    "    \"MEM\":None                      #Memory used by the Model\n",
    "    }\n",
    "metadict"
   ]
  },
  {
   "cell_type": "code",
   "execution_count": 20,
   "metadata": {},
   "outputs": [
    {
     "data": {
      "text/plain": [
       "{'Name': 'Agg_glove_pmeans5_K50_R3000_F250',\n",
       " 'Algo': 'Agg',\n",
       " 'WordEmb': 'glove',\n",
       " 'SentEmb': 'pmeans5',\n",
       " 'K': 50,\n",
       " 'R': 3000,\n",
       " 'F': 250,\n",
       " 'T2T': None,\n",
       " 'SS': None,\n",
       " 'DBS': None,\n",
       " 'CSavg': None,\n",
       " 'CSmin': None,\n",
       " 'CSmax': None,\n",
       " 'T2Pavg': None,\n",
       " 'T2LM': None,\n",
       " 'T2LMP': None,\n",
       " 'MEM': None}"
      ]
     },
     "execution_count": 20,
     "metadata": {},
     "output_type": "execute_result"
    }
   ],
   "source": [
    "metadict[\"Name\"]=name\n",
    "metadict[\"Algo\"]=__algo__\n",
    "metadict[\"WordEmb\"]=__emb__\n",
    "metadict[\"SentEmb\"]=__sentemb__\n",
    "metadict[\"K\"]=k\n",
    "metadict[\"R\"]=recnum\n",
    "metadict[\"F\"]=features\n",
    "metadict"
   ]
  },
  {
   "cell_type": "markdown",
   "metadata": {},
   "source": [
    "#### Time to train"
   ]
  },
  {
   "cell_type": "code",
   "execution_count": 21,
   "metadata": {},
   "outputs": [],
   "source": [
    "metadict[\"T2T\"]=timetrain"
   ]
  },
  {
   "cell_type": "markdown",
   "metadata": {},
   "source": [
    "#### Scores"
   ]
  },
  {
   "cell_type": "code",
   "execution_count": 22,
   "metadata": {},
   "outputs": [],
   "source": [
    "ss = silhouette_score(data, labels, metric = 'euclidean')\n",
    "dbs = davies_bouldin_score(data, labels)\n",
    "metadict[\"SS\"]=ss\n",
    "metadict[\"DBS\"]=dbs"
   ]
  },
  {
   "cell_type": "markdown",
   "metadata": {},
   "source": [
    "#### Cluster Size"
   ]
  },
  {
   "cell_type": "code",
   "execution_count": 23,
   "metadata": {},
   "outputs": [
    {
     "data": {
      "text/html": [
       "<div>\n",
       "<style scoped>\n",
       "    .dataframe tbody tr th:only-of-type {\n",
       "        vertical-align: middle;\n",
       "    }\n",
       "\n",
       "    .dataframe tbody tr th {\n",
       "        vertical-align: top;\n",
       "    }\n",
       "\n",
       "    .dataframe thead th {\n",
       "        text-align: right;\n",
       "    }\n",
       "</style>\n",
       "<table border=\"1\" class=\"dataframe\">\n",
       "  <thead>\n",
       "    <tr style=\"text-align: right;\">\n",
       "      <th></th>\n",
       "      <th>clusterlabel</th>\n",
       "      <th>count</th>\n",
       "    </tr>\n",
       "  </thead>\n",
       "  <tbody>\n",
       "    <tr>\n",
       "      <td>0</td>\n",
       "      <td>0</td>\n",
       "      <td>30</td>\n",
       "    </tr>\n",
       "    <tr>\n",
       "      <td>1</td>\n",
       "      <td>1</td>\n",
       "      <td>28</td>\n",
       "    </tr>\n",
       "    <tr>\n",
       "      <td>2</td>\n",
       "      <td>2</td>\n",
       "      <td>241</td>\n",
       "    </tr>\n",
       "    <tr>\n",
       "      <td>3</td>\n",
       "      <td>3</td>\n",
       "      <td>32</td>\n",
       "    </tr>\n",
       "    <tr>\n",
       "      <td>4</td>\n",
       "      <td>4</td>\n",
       "      <td>163</td>\n",
       "    </tr>\n",
       "  </tbody>\n",
       "</table>\n",
       "</div>"
      ],
      "text/plain": [
       "   clusterlabel  count\n",
       "0             0     30\n",
       "1             1     28\n",
       "2             2    241\n",
       "3             3     32\n",
       "4             4    163"
      ]
     },
     "execution_count": 23,
     "metadata": {},
     "output_type": "execute_result"
    }
   ],
   "source": [
    "clusterdata = megadf.groupby(\"clusterlabel\", as_index=True).size().reset_index(name=\"count\")\n",
    "clusterdata.head()"
   ]
  },
  {
   "cell_type": "code",
   "execution_count": 24,
   "metadata": {},
   "outputs": [],
   "source": [
    "clusterdfname = \"{}_clustered_counts.pkl\".format(name)\n",
    "clusterdata.to_pickle(megadfDir + clusterdfname)"
   ]
  },
  {
   "cell_type": "code",
   "execution_count": 25,
   "metadata": {
    "scrolled": true
   },
   "outputs": [
    {
     "data": {
      "text/html": [
       "<div>\n",
       "<style scoped>\n",
       "    .dataframe tbody tr th:only-of-type {\n",
       "        vertical-align: middle;\n",
       "    }\n",
       "\n",
       "    .dataframe tbody tr th {\n",
       "        vertical-align: top;\n",
       "    }\n",
       "\n",
       "    .dataframe thead th {\n",
       "        text-align: right;\n",
       "    }\n",
       "</style>\n",
       "<table border=\"1\" class=\"dataframe\">\n",
       "  <thead>\n",
       "    <tr style=\"text-align: right;\">\n",
       "      <th></th>\n",
       "      <th>count</th>\n",
       "      <th>clusters</th>\n",
       "    </tr>\n",
       "  </thead>\n",
       "  <tbody>\n",
       "    <tr>\n",
       "      <td>0</td>\n",
       "      <td>3</td>\n",
       "      <td>1</td>\n",
       "    </tr>\n",
       "    <tr>\n",
       "      <td>1</td>\n",
       "      <td>6</td>\n",
       "      <td>1</td>\n",
       "    </tr>\n",
       "    <tr>\n",
       "      <td>2</td>\n",
       "      <td>10</td>\n",
       "      <td>1</td>\n",
       "    </tr>\n",
       "  </tbody>\n",
       "</table>\n",
       "</div>"
      ],
      "text/plain": [
       "   count  clusters\n",
       "0      3         1\n",
       "1      6         1\n",
       "2     10         1"
      ]
     },
     "metadata": {},
     "output_type": "display_data"
    },
    {
     "data": {
      "text/html": [
       "<div>\n",
       "<style scoped>\n",
       "    .dataframe tbody tr th:only-of-type {\n",
       "        vertical-align: middle;\n",
       "    }\n",
       "\n",
       "    .dataframe tbody tr th {\n",
       "        vertical-align: top;\n",
       "    }\n",
       "\n",
       "    .dataframe thead th {\n",
       "        text-align: right;\n",
       "    }\n",
       "</style>\n",
       "<table border=\"1\" class=\"dataframe\">\n",
       "  <thead>\n",
       "    <tr style=\"text-align: right;\">\n",
       "      <th></th>\n",
       "      <th>count</th>\n",
       "      <th>clusters</th>\n",
       "    </tr>\n",
       "  </thead>\n",
       "  <tbody>\n",
       "    <tr>\n",
       "      <td>39</td>\n",
       "      <td>163</td>\n",
       "      <td>1</td>\n",
       "    </tr>\n",
       "    <tr>\n",
       "      <td>40</td>\n",
       "      <td>167</td>\n",
       "      <td>1</td>\n",
       "    </tr>\n",
       "    <tr>\n",
       "      <td>41</td>\n",
       "      <td>241</td>\n",
       "      <td>1</td>\n",
       "    </tr>\n",
       "  </tbody>\n",
       "</table>\n",
       "</div>"
      ],
      "text/plain": [
       "    count  clusters\n",
       "39    163         1\n",
       "40    167         1\n",
       "41    241         1"
      ]
     },
     "metadata": {},
     "output_type": "display_data"
    }
   ],
   "source": [
    "countdata = clusterdata.groupby(\"count\").size().reset_index(name=\"clusters\")\n",
    "display(countdata.head(3))\n",
    "display(countdata.tail(3))"
   ]
  },
  {
   "cell_type": "code",
   "execution_count": 26,
   "metadata": {},
   "outputs": [],
   "source": [
    "metadict[\"CSmax\"] = max(clusterdata[\"count\"])\n",
    "metadict[\"CSmin\"] = min(clusterdata[\"count\"])\n",
    "metadict[\"CSavg\"] = np.mean(clusterdata[\"count\"])"
   ]
  },
  {
   "cell_type": "code",
   "execution_count": 27,
   "metadata": {},
   "outputs": [
    {
     "data": {
      "image/png": "[encoded data removed]",
      "text/plain": [
       "<Figure size 1152x1152 with 1 Axes>"
      ]
     },
     "metadata": {
      "needs_background": "light"
     },
     "output_type": "display_data"
    }
   ],
   "source": [
    "%matplotlib inline\n",
    "plt.figure(figsize=(16,16))\n",
    "\n",
    "sns.axes_style(\"whitegrid\", {\"axes.grid\":True, \n",
    "                            'axes.spines.left': False,\n",
    "                             'axes.spines.bottom': False,\n",
    "                             'axes.spines.right': False,\n",
    "                             'axes.spines.top': False})\n",
    "\n",
    "\n",
    "titlestring = \"{}_Cluster_Distribution\".format(name)\n",
    "snsplot = sns.distplot(clusterdata[\"count\"], kde=False, bins=max(clusterdata[\"count\"]),\n",
    "                      hist_kws={'edgecolor':'black'},)\n",
    "snsplot.set(xlabel=\"Number of Papers\", ylabel=\"Number of Clusters\")\n",
    "snsplot.xaxis.label.set_size(20)\n",
    "snsplot.yaxis.label.set_size(20)\n",
    "plt.title(\n",
    "        titlestring,\n",
    "        fontdict = {'fontsize' : 25}\n",
    "    )\n",
    "plt.show()\n",
    "\n"
   ]
  },
  {
   "cell_type": "code",
   "execution_count": 28,
   "metadata": {},
   "outputs": [],
   "source": [
    "snspltname = \"{}_Cluster_Distribution.png\".format(name)\n",
    "snsplot.figure.savefig(plotDir + snspltname)"
   ]
  },
  {
   "cell_type": "markdown",
   "metadata": {},
   "source": [
    "#### Prediction Time Performance"
   ]
  },
  {
   "cell_type": "code",
   "execution_count": 29,
   "metadata": {},
   "outputs": [
    {
     "name": "stdout",
     "output_type": "stream",
     "text": [
      "(2000, 250)\n"
     ]
    }
   ],
   "source": [
    "testdf = pd.DataFrame()\n",
    "if recnum < 2000:\n",
    "    samplenum = int(recnum / 10)\n",
    "else:\n",
    "    samplenum = 2000\n",
    "\n",
    "for f in smalllist:\n",
    "    tempdf = pd.read_pickle(f)\n",
    "    testdf = megadf.append(tempdf, ignore_index = True, sort = False)\n",
    "testdf = testdf.sample(samplenum, random_state=int(time.time()%100000))\n",
    "predata = testdf[\"embedding\"]\n",
    "data = np.matrix(predata.to_list())\n",
    "print(data.shape)"
   ]
  },
  {
   "cell_type": "code",
   "execution_count": 32,
   "metadata": {},
   "outputs": [],
   "source": [
    "# print(\"Starting Predicting Performance\")\n",
    "# testmodel = model\n",
    "# start_time = time.time()\n",
    "# for d in data:\n",
    "#     lb = testmodel.predict(d)\n",
    "# end_time = time.time()\n",
    "# timetest = end_time-start_time\n",
    "# avgtime = timetest/data.shape[0]\n",
    "# print(\"Avgtime: {} Totaltime: {}\".format(avgtime, timetest))\n",
    "avgtime = timetrain\n",
    "metadict[\"T2Pavg\"]=avgtime"
   ]
  },
  {
   "cell_type": "code",
   "execution_count": 33,
   "metadata": {
    "scrolled": true
   },
   "outputs": [
    {
     "name": "stdout",
     "output_type": "stream",
     "text": [
      "Starting Loading Performance\n",
      "Avgtime: 0.00015970230102539063 Totaltime: 0.007985115051269531\n"
     ]
    },
    {
     "data": {
      "text/plain": [
       "0.00015970230102539063"
      ]
     },
     "execution_count": 33,
     "metadata": {},
     "output_type": "execute_result"
    }
   ],
   "source": [
    "print(\"Starting Loading Performance\")\n",
    "loadruns = 50\n",
    "start_time = time.time()\n",
    "for i in range(loadruns):\n",
    "    testmodel = pickle.load(open(modelDir + modelname, 'rb'))\n",
    "end_time = time.time()\n",
    "timetest = end_time-start_time\n",
    "avgtime = timetest/loadruns\n",
    "print(\"Avgtime: {} Totaltime: {}\".format(avgtime, timetest))\n",
    "metadict[\"T2LM\"] = avgtime\n",
    "avgtime"
   ]
  },
  {
   "cell_type": "code",
   "execution_count": 34,
   "metadata": {
    "scrolled": true
   },
   "outputs": [
    {
     "data": {
      "text/plain": [
       "1.16"
      ]
     },
     "execution_count": 34,
     "metadata": {},
     "output_type": "execute_result"
    }
   ],
   "source": [
    "# print(\"Starting Amortized Performance\")\n",
    "# loadruns = 5\n",
    "# avglist = []\n",
    "\n",
    "# for i in range(loadruns):\n",
    "#     start_time = time.time()\n",
    "#     testmodel = pickle.load(open(modelDir + modelname, 'rb'))\n",
    "#     for d in data:\n",
    "#         lb = testmodel.predict(d)\n",
    "#     end_time = time.time()\n",
    "#     timetest = (end_time-start_time)/data.shape[0]\n",
    "#     avglist.append(timetest)\n",
    "\n",
    "# timetest = np.sum(avglist)\n",
    "# avgtime = np.mean(avglist)\n",
    "# print(\"Avgtime: {} Totaltime: {}\".format(avgtime, timetest))\n",
    "avgtime = timetrain\n",
    "metadict[\"T2LMP\"] = avgtime\n",
    "avgtime"
   ]
  },
  {
   "cell_type": "code",
   "execution_count": 35,
   "metadata": {},
   "outputs": [
    {
     "name": "stdout",
     "output_type": "stream",
     "text": [
      "modelsize: 72627 bytes\n"
     ]
    }
   ],
   "source": [
    "modelsize = sys.getsizeof(pickle.dumps(model))\n",
    "print(\"modelsize:\", modelsize, \"bytes\")\n",
    "metadict[\"MEM\"]=modelsize"
   ]
  },
  {
   "cell_type": "code",
   "execution_count": 36,
   "metadata": {
    "scrolled": true
   },
   "outputs": [
    {
     "data": {
      "text/plain": [
       "{'Name': 'Agg_glove_pmeans5_K50_R3000_F250',\n",
       " 'Algo': 'Agg',\n",
       " 'WordEmb': 'glove',\n",
       " 'SentEmb': 'pmeans5',\n",
       " 'K': 50,\n",
       " 'R': 3000,\n",
       " 'F': 250,\n",
       " 'T2T': 1.16,\n",
       " 'SS': 0.03031561289394292,\n",
       " 'DBS': 3.103002956409054,\n",
       " 'CSavg': 60.0,\n",
       " 'CSmin': 3,\n",
       " 'CSmax': 241,\n",
       " 'T2Pavg': 1.16,\n",
       " 'T2LM': 0.00015970230102539063,\n",
       " 'T2LMP': 1.16,\n",
       " 'MEM': 72627}"
      ]
     },
     "execution_count": 36,
     "metadata": {},
     "output_type": "execute_result"
    }
   ],
   "source": [
    "metadict"
   ]
  },
  {
   "cell_type": "code",
   "execution_count": 37,
   "metadata": {},
   "outputs": [
    {
     "data": {
      "text/html": [
       "<div>\n",
       "<style scoped>\n",
       "    .dataframe tbody tr th:only-of-type {\n",
       "        vertical-align: middle;\n",
       "    }\n",
       "\n",
       "    .dataframe tbody tr th {\n",
       "        vertical-align: top;\n",
       "    }\n",
       "\n",
       "    .dataframe thead th {\n",
       "        text-align: right;\n",
       "    }\n",
       "</style>\n",
       "<table border=\"1\" class=\"dataframe\">\n",
       "  <thead>\n",
       "    <tr style=\"text-align: right;\">\n",
       "      <th></th>\n",
       "      <th>Name</th>\n",
       "      <th>Algo</th>\n",
       "      <th>WordEmb</th>\n",
       "      <th>SentEmb</th>\n",
       "      <th>K</th>\n",
       "      <th>R</th>\n",
       "      <th>F</th>\n",
       "      <th>SS</th>\n",
       "      <th>CSavg</th>\n",
       "      <th>CSmin</th>\n",
       "      <th>CSmax</th>\n",
       "      <th>T2Pavg</th>\n",
       "      <th>T2LM</th>\n",
       "      <th>T2LMP</th>\n",
       "      <th>MEM</th>\n",
       "      <th>DBS</th>\n",
       "      <th>T2T</th>\n",
       "    </tr>\n",
       "  </thead>\n",
       "  <tbody>\n",
       "    <tr>\n",
       "      <td>0</td>\n",
       "      <td>Agg_glove_pmeans5_K50_R3000_F250</td>\n",
       "      <td>Agg</td>\n",
       "      <td>glove</td>\n",
       "      <td>pmeans5</td>\n",
       "      <td>50</td>\n",
       "      <td>3000</td>\n",
       "      <td>250</td>\n",
       "      <td>0.030316</td>\n",
       "      <td>60.0</td>\n",
       "      <td>3</td>\n",
       "      <td>241</td>\n",
       "      <td>1.16</td>\n",
       "      <td>0.00016</td>\n",
       "      <td>1.16</td>\n",
       "      <td>72627</td>\n",
       "      <td>3.103003</td>\n",
       "      <td>1.16</td>\n",
       "    </tr>\n",
       "  </tbody>\n",
       "</table>\n",
       "</div>"
      ],
      "text/plain": [
       "                               Name Algo WordEmb  SentEmb   K     R    F  \\\n",
       "0  Agg_glove_pmeans5_K50_R3000_F250  Agg   glove  pmeans5  50  3000  250   \n",
       "\n",
       "         SS  CSavg CSmin CSmax  T2Pavg     T2LM  T2LMP    MEM       DBS   T2T  \n",
       "0  0.030316   60.0     3   241    1.16  0.00016   1.16  72627  3.103003  1.16  "
      ]
     },
     "execution_count": 37,
     "metadata": {},
     "output_type": "execute_result"
    }
   ],
   "source": [
    "metadata = metadata.append(metadict, ignore_index=True)\n",
    "metadata"
   ]
  },
  {
   "cell_type": "code",
   "execution_count": 38,
   "metadata": {},
   "outputs": [],
   "source": [
    "metadataname = \"{}_metadata.pkl\".format(name)\n",
    "metadata.to_pickle(metadataDir + metadataname)"
   ]
  },
  {
   "cell_type": "code",
   "execution_count": null,
   "metadata": {},
   "outputs": [],
   "source": []
  }
 ],
 "metadata": {
  "colab": {
   "collapsed_sections": [],
   "include_colab_link": true,
   "name": "TemplateClusterKEuclid.ipynb",
   "provenance": []
  },
  "file_extension": ".py",
  "kernelspec": {
   "display_name": "Python 3.7.4 64-bit ('base': conda)",
   "language": "python",
   "name": "python37464bitbasecondaccb10e44a6224ec5a8090d4d6e72e602"
  },
  "language_info": {
   "codemirror_mode": {
    "name": "ipython",
    "version": 3
   },
   "file_extension": ".py",
   "mimetype": "text/x-python",
   "name": "python",
   "nbconvert_exporter": "python",
   "pygments_lexer": "ipython3",
   "version": "3.7.4"
  },
  "mimetype": "text/x-python",
  "name": "python",
  "npconvert_exporter": "python",
  "pygments_lexer": "ipython3",
  "version": 3
 },
 "nbformat": 4,
 "nbformat_minor": 1
}
